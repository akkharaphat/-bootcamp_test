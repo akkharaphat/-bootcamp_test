{
 "cells":[
  {
   "cell_type":"markdown",
   "source":[
    "# Sheet"
   ],
   "attachments":{
    
   },
   "metadata":{
    "datalore":{
     "node_id":"Sheet",
     "type":"MD",
     "hide_input_from_viewers":false,
     "hide_output_from_viewers":false,
     "sheet_delimiter":true
    }
   }
  },
  {
   "cell_type":"markdown",
   "source":[
    "# INTRO to Python Programing"
   ],
   "attachments":{
    
   },
   "metadata":{
    "datalore":{
     "node_id":"NnQRFCNXMma2tePGh0DPGH",
     "type":"MD",
     "hide_input_from_viewers":true,
     "hide_output_from_viewers":true,
     "report_properties":{
      
     }
    }
   }
  },
  {
   "cell_type":"markdown",
   "source":[
    "Core Concept\n",
    "- variables\n",
    "- data type\n",
    "- data structure\n",
    "- function\n",
    "- control flow "
   ],
   "attachments":{
    
   },
   "metadata":{
    "datalore":{
     "node_id":"Dmnoco28jYjsAOVYlfJXjh",
     "type":"MD",
     "hide_input_from_viewers":true,
     "hide_output_from_viewers":true,
     "report_properties":{
      
     }
    }
   }
  },
  {
   "cell_type":"code",
   "source":[
    "#Varieble\n",
    "my_name = \"Aee\"\n",
    "age = 29\n",
    "saving = 10500.47"
   ],
   "execution_count":null,
   "outputs":[
    
   ],
   "metadata":{
    "datalore":{
     "node_id":"Aac73Ga1QYxjBVJFZDOeZv",
     "type":"CODE",
     "hide_input_from_viewers":true,
     "hide_output_from_viewers":true,
     "report_properties":{
      
     }
    }
   }
  },
  {
   "cell_type":"markdown",
   "source":[
    "# Data Type\n",
    "- int\n",
    "- float\n",
    "- str\n",
    "- bool"
   ],
   "attachments":{
    
   },
   "metadata":{
    "datalore":{
     "node_id":"rsxRQqsXsbDqz0skuoKrqD",
     "type":"MD",
     "hide_input_from_viewers":true,
     "hide_output_from_viewers":true,
     "report_properties":{
      
     }
    }
   }
  },
  {
   "cell_type":"code",
   "source":[
    "x = \"100\"\n",
    "x = int(x)\n",
    "print(x, type(x))"
   ],
   "execution_count":null,
   "outputs":[
    {
     "name":"stdout",
     "text":[
      "100 <class 'int'>\n"
     ],
     "output_type":"stream"
    }
   ],
   "metadata":{
    "datalore":{
     "node_id":"5kVIfkzFWrgrpUzwtPgm8M",
     "type":"CODE",
     "hide_input_from_viewers":true,
     "hide_output_from_viewers":true,
     "report_properties":{
      
     }
    }
   }
  },
  {
   "cell_type":"markdown",
   "source":[
    "# Type Hint"
   ],
   "attachments":{
    
   },
   "metadata":{
    "datalore":{
     "node_id":"Q7bePhIlZoN0IwP0EL5Hqb",
     "type":"MD",
     "hide_input_from_viewers":true,
     "hide_output_from_viewers":true,
     "report_properties":{
      
     }
    }
   }
  },
  {
   "cell_type":"code",
   "source":[
    "name : str = \"Aee\"\n",
    "print(name)"
   ],
   "execution_count":null,
   "outputs":[
    {
     "name":"stdout",
     "text":[
      "Aee\n"
     ],
     "output_type":"stream"
    }
   ],
   "metadata":{
    "datalore":{
     "node_id":"pBv6csUlRlYEQPMTVi2Aj0",
     "type":"CODE",
     "hide_input_from_viewers":true,
     "hide_output_from_viewers":true,
     "report_properties":{
      
     }
    }
   }
  },
  {
   "cell_type":"markdown",
   "source":[
    "# Srting Method \n",
    "Function  ที่ถูกสร้างขึ้นมาสำหรับ class นึงๆ"
   ],
   "attachments":{
    
   },
   "metadata":{
    "datalore":{
     "node_id":"4Z5u1wPykhcA6lPFvYZwZ0",
     "type":"MD",
     "hide_input_from_viewers":true,
     "hide_output_from_viewers":true,
     "report_properties":{
      
     }
    }
   }
  },
  {
   "cell_type":"code",
   "source":[
    "text = \"I am your father\"\n",
    "\n",
    "text.replace('father','mothor')"
   ],
   "execution_count":null,
   "outputs":[
    {
     "data":{
      "text\/plain":[
       "'I am your mothor'"
      ]
     },
     "metadata":{
      
     },
     "output_type":"display_data"
    }
   ],
   "metadata":{
    "datalore":{
     "node_id":"9EFiJK8I0ssF172LxKMN1W",
     "type":"CODE",
     "hide_input_from_viewers":true,
     "hide_output_from_viewers":true,
     "report_properties":{
      
     }
    }
   }
  },
  {
   "cell_type":"code",
   "source":[
    "len(text)-text.count(\" \")"
   ],
   "execution_count":null,
   "outputs":[
    {
     "data":{
      "text\/plain":[
       "13"
      ]
     },
     "metadata":{
      
     },
     "output_type":"display_data"
    }
   ],
   "metadata":{
    "datalore":{
     "node_id":"W67HBMrBkDrZ77L7BptIsE",
     "type":"CODE",
     "hide_input_from_viewers":true,
     "hide_output_from_viewers":true,
     "report_properties":{
      
     }
    }
   }
  },
  {
   "cell_type":"code",
   "source":[
    "text.title()"
   ],
   "execution_count":null,
   "outputs":[
    {
     "data":{
      "text\/plain":[
       "'I Am Your Father'"
      ]
     },
     "metadata":{
      
     },
     "output_type":"display_data"
    }
   ],
   "metadata":{
    "datalore":{
     "node_id":"wBJMZlehZmb9JGeuWzXmsk",
     "type":"CODE",
     "hide_input_from_viewers":true,
     "hide_output_from_viewers":true,
     "report_properties":{
      
     }
    }
   }
  },
  {
   "cell_type":"code",
   "source":[
    "list_of_word = text.split(\" \")\n",
    "list_of_word"
   ],
   "execution_count":null,
   "outputs":[
    {
     "data":{
      "text\/plain":[
       "['I', 'am', 'your', 'father']"
      ]
     },
     "metadata":{
      
     },
     "output_type":"display_data"
    }
   ],
   "metadata":{
    "datalore":{
     "node_id":"vCWHwQCoKGgdClLSZEtsPj",
     "type":"CODE",
     "hide_input_from_viewers":true,
     "hide_output_from_viewers":true,
     "report_properties":{
      
     }
    }
   }
  },
  {
   "cell_type":"code",
   "source":[
    "\" \".join(list_of_word)"
   ],
   "execution_count":null,
   "outputs":[
    {
     "data":{
      "text\/plain":[
       "'I am your father'"
      ]
     },
     "metadata":{
      
     },
     "output_type":"display_data"
    }
   ],
   "metadata":{
    "datalore":{
     "node_id":"z9lagmDBgTv8sCaZ0viyjZ",
     "type":"CODE",
     "hide_input_from_viewers":true,
     "hide_output_from_viewers":true,
     "report_properties":{
      
     }
    }
   }
  },
  {
   "cell_type":"code",
   "source":[
    "text[0:4]"
   ],
   "execution_count":null,
   "outputs":[
    {
     "data":{
      "text\/plain":[
       "'I am'"
      ]
     },
     "metadata":{
      
     },
     "output_type":"display_data"
    }
   ],
   "metadata":{
    "datalore":{
     "node_id":"blYo5LEsFqeV97UZV1xtf8",
     "type":"CODE",
     "hide_input_from_viewers":true,
     "hide_output_from_viewers":true,
     "report_properties":{
      
     }
    }
   }
  },
  {
   "cell_type":"code",
   "source":[
    "\"hello\" + \" world\""
   ],
   "execution_count":null,
   "outputs":[
    {
     "data":{
      "text\/plain":[
       "'hello world'"
      ]
     },
     "metadata":{
      
     },
     "output_type":"display_data"
    }
   ],
   "metadata":{
    "datalore":{
     "node_id":"RmIQXrmOiXYeSiuF4YhMm1",
     "type":"CODE",
     "hide_input_from_viewers":true,
     "hide_output_from_viewers":true,
     "report_properties":{
      
     }
    }
   }
  },
  {
   "cell_type":"code",
   "source":[
    "x = 'hello world'"
   ],
   "execution_count":null,
   "outputs":[
    
   ],
   "metadata":{
    "datalore":{
     "node_id":"b0TLAMh11BNwn9XDqO5agS",
     "type":"CODE",
     "hide_input_from_viewers":true,
     "hide_output_from_viewers":true,
     "report_properties":{
      
     }
    }
   }
  },
  {
   "cell_type":"code",
   "source":[
    "#chang hello wolrd to jello world\n",
    "\"J\" + x[1:]"
   ],
   "execution_count":null,
   "outputs":[
    {
     "data":{
      "text\/plain":[
       "'Jello world'"
      ]
     },
     "metadata":{
      
     },
     "output_type":"display_data"
    }
   ],
   "metadata":{
    "datalore":{
     "node_id":"cTm15OcoN9tPvVzvtjN5lK",
     "type":"CODE",
     "hide_input_from_viewers":true,
     "hide_output_from_viewers":true,
     "report_properties":{
      
     }
    }
   }
  },
  {
   "cell_type":"markdown",
   "source":[
    "# Data Structure\n",
    "- list[ ]\n",
    "- tuple( )\n",
    "- dictonary{key: value}\n",
    "- set{ }"
   ],
   "attachments":{
    
   },
   "metadata":{
    "datalore":{
     "node_id":"f5FGCFimD1kdkDddVOcHDO",
     "type":"MD",
     "hide_input_from_viewers":true,
     "hide_output_from_viewers":true,
     "report_properties":{
      
     }
    }
   }
  },
  {
   "cell_type":"code",
   "source":[
    "#list \n",
    "shopping_item = ['egg','milk','bread','noodle']"
   ],
   "execution_count":null,
   "outputs":[
    
   ],
   "metadata":{
    "datalore":{
     "node_id":"z0YXLGuXcHubb0HH25um1W",
     "type":"CODE",
     "hide_input_from_viewers":true,
     "hide_output_from_viewers":true,
     "report_properties":{
      
     }
    }
   }
  },
  {
   "cell_type":"code",
   "source":[
    "shopping_item[0:3]"
   ],
   "execution_count":null,
   "outputs":[
    {
     "data":{
      "text\/plain":[
       "['egg', 'milk', 'bread']"
      ]
     },
     "metadata":{
      
     },
     "output_type":"display_data"
    }
   ],
   "metadata":{
    "datalore":{
     "node_id":"CUmfm3gOnidAKt2eTsPTXq",
     "type":"CODE",
     "hide_input_from_viewers":true,
     "hide_output_from_viewers":true,
     "report_properties":{
      
     }
    }
   }
  },
  {
   "cell_type":"code",
   "source":[
    "print(\"original items: \", shopping_item)"
   ],
   "execution_count":null,
   "outputs":[
    {
     "name":"stdout",
     "text":[
      "original items:  ['egg', 'milk', 'bread', 'noodle']\n"
     ],
     "output_type":"stream"
    }
   ],
   "metadata":{
    "datalore":{
     "node_id":"Oe92xVqClo8ihlZ9GKewbC",
     "type":"CODE",
     "hide_input_from_viewers":true,
     "hide_output_from_viewers":true,
     "report_properties":{
      
     }
    }
   }
  },
  {
   "cell_type":"code",
   "source":[
    "#list medthods(function)\n",
    "\n",
    "shopping_item.append(\"jam\")\n",
    "print(shopping_item)"
   ],
   "execution_count":null,
   "outputs":[
    {
     "name":"stdout",
     "text":[
      "['egg', 'milk', 'bread', 'noodle', 'jam']\n"
     ],
     "output_type":"stream"
    }
   ],
   "metadata":{
    "datalore":{
     "node_id":"qeVbMDBjYBEYpxLHETPHQp",
     "type":"CODE",
     "hide_input_from_viewers":true,
     "hide_output_from_viewers":true,
     "report_properties":{
      
     }
    }
   }
  },
  {
   "cell_type":"code",
   "source":[
    "shopping_item.pop(2) #delete list index 2 "
   ],
   "execution_count":null,
   "outputs":[
    {
     "data":{
      "text\/plain":[
       "'bread'"
      ]
     },
     "metadata":{
      
     },
     "output_type":"display_data"
    }
   ],
   "metadata":{
    "datalore":{
     "node_id":"7XC3hfZoPcrSXbgvv4JPoL",
     "type":"CODE",
     "hide_input_from_viewers":true,
     "hide_output_from_viewers":true,
     "report_properties":{
      
     }
    }
   }
  },
  {
   "cell_type":"code",
   "source":[
    "shopping_item"
   ],
   "execution_count":null,
   "outputs":[
    {
     "data":{
      "text\/plain":[
       "['egg', 'milk', 'noodle', 'jam']"
      ]
     },
     "metadata":{
      
     },
     "output_type":"display_data"
    }
   ],
   "metadata":{
    "datalore":{
     "node_id":"uTIbwuGBNVBvwAHhIqHqH4",
     "type":"CODE",
     "hide_input_from_viewers":true,
     "hide_output_from_viewers":true,
     "report_properties":{
      
     }
    }
   }
  },
  {
   "cell_type":"code",
   "source":[
    "print(shopping_item\n",
    "      )\n",
    "shopping_item2 = shopping_item.copy"
   ],
   "execution_count":null,
   "outputs":[
    {
     "name":"stdout",
     "text":[
      "['egg', 'milk', 'bread', 'noodle', 'jam']\n"
     ],
     "output_type":"stream"
    }
   ],
   "metadata":{
    "datalore":{
     "node_id":"fE2pjnaH0zo7d89kfydGDf",
     "type":"CODE",
     "hide_input_from_viewers":true,
     "hide_output_from_viewers":true,
     "report_properties":{
      
     }
    }
   }
  },
  {
   "cell_type":"code",
   "source":[
    "# noinspection PyUnresolvedReferences\n",
    "shopping_item2[0] = 'muntho'"
   ],
   "execution_count":null,
   "outputs":[
    {
     "ename":"TypeError",
     "evalue":"TypeError: 'builtin_function_or_method' object does not support item assignment",
     "traceback":[
      "\u001b[0;31m---------------------------------------------------------------------------",
      "Traceback (most recent call last)",
      "    at line 1 in <module>",
      "TypeError: 'builtin_function_or_method' object does not support item assignment"
     ],
     "output_type":"error"
    }
   ],
   "metadata":{
    "datalore":{
     "node_id":"X1ltEcAMI42V8PyHQoKgYH",
     "type":"CODE",
     "hide_input_from_viewers":true,
     "hide_output_from_viewers":true,
     "report_properties":{
      
     }
    }
   }
  },
  {
   "cell_type":"markdown",
   "source":[
    "# Sheet 2"
   ],
   "attachments":{
    
   },
   "metadata":{
    "datalore":{
     "node_id":"Sheet 2",
     "type":"MD",
     "hide_input_from_viewers":false,
     "hide_output_from_viewers":false,
     "sheet_delimiter":true
    }
   }
  },
  {
   "cell_type":"markdown",
   "source":[
    "# HOMEWORK"
   ],
   "attachments":{
    
   },
   "metadata":{
    "datalore":{
     "node_id":"IanSHgEMZyF9VIsEv36lEA",
     "type":"MD",
     "hide_input_from_viewers":true,
     "hide_output_from_viewers":false,
     "report_properties":{
      "x":0,
      "y":0,
      "height":4,
      "splitHeight":2
     }
    }
   }
  },
  {
   "cell_type":"markdown",
   "source":[
    "# ATM"
   ],
   "attachments":{
    
   },
   "metadata":{
    "datalore":{
     "node_id":"BXOMHQDNVumr2PvRIbbq7X",
     "type":"MD",
     "hide_input_from_viewers":true,
     "hide_output_from_viewers":false,
     "report_properties":{
      "x":0,
      "y":4,
      "height":4,
      "splitHeight":2
     }
    }
   }
  },
  {
   "cell_type":"code",
   "source":[
    "#ATM\n",
    "class ATM:\n",
    "      def __init__(self, name, balance, password,):\n",
    "            self.name = name\n",
    "            self.balance = balance\n",
    "            self.password = password\n",
    "            print(f\"Welcome To ATM: {self.name}\")\n",
    "            print(f\"Your Password is: {self.password}\")\n",
    "\n",
    "      def authen(self):\n",
    "           password = float(input(\"Your Password is:\"))\n",
    "           if self.password == password:\n",
    "              print(f\"Correct!!\")\n",
    "           else:\n",
    "              print(\"ERROR\")\n",
    "\n",
    "      def check_balance(self):\n",
    "          message = (f\"Account: {self.name}, Balance: {self.balance}\")\n",
    "          print(message)\n",
    "      \n",
    "      def deposit(self):\n",
    "          deposit = float(input(\"Amount to Deposit:\")) #Deposit\n",
    "          self.balance += deposit\n",
    "          print(f\"Name: {self.name}\")\n",
    "          print(f\"New Balance: {self.balance}\")\n",
    "          print(\"Deposit Successful\")\n",
    "\n",
    "      def transfer(self):\n",
    "               amount = float(input(\"Enter amount to be transfer: $\"))  #transfer\n",
    "               if self.balance >= amount:\n",
    "                  self.balance -= amount\n",
    "                  print(f\"You Transfer: {amount}$\")\n",
    "                  print(\"# Transaction Succesfully #\")\n",
    "                  print(f\" Your Balance {self.balance}$\")\n",
    "               else:\n",
    "                  print(\" Insufficient balance!!!  \")\n",
    "\n",
    "      def change_name(self, newname):\n",
    "             self.name = newname\n",
    "             print(f\"Newname: {self.name}\")\n",
    "\n",
    "      def change_pwd(self, new_pwd):\n",
    "          self.password = new_pwd\n",
    "          print(f\"New password: {self.password}\")\n",
    "          print(\"Successful\")"
   ],
   "execution_count":null,
   "outputs":[
    
   ],
   "metadata":{
    "datalore":{
     "node_id":"fd85o0s7C64nJYVmPj6GvQ",
     "type":"CODE",
     "hide_input_from_viewers":false,
     "hide_output_from_viewers":true,
     "report_properties":{
      "x":0,
      "y":8,
      "height":23,
      "splitHeight":22
     }
    }
   }
  },
  {
   "cell_type":"code",
   "source":[
    "scb = ATM(\"Akk\",20000,112233)"
   ],
   "execution_count":null,
   "outputs":[
    {
     "name":"stdout",
     "text":[
      "Welcome To ATM: Akk\n",
      "Your Password is: 112233\n"
     ],
     "output_type":"stream"
    }
   ],
   "metadata":{
    "datalore":{
     "node_id":"aoIzra8KOr03e4wSZAr16j",
     "type":"CODE",
     "hide_input_from_viewers":false,
     "hide_output_from_viewers":false,
     "report_properties":{
      "x":0,
      "y":31,
      "width":1,
      "height":3,
      "splitHeight":2
     }
    }
   }
  },
  {
   "cell_type":"code",
   "source":[
    "scb.authen()"
   ],
   "execution_count":null,
   "outputs":[
    {
     "name":"stdout",
     "text":[
      "Your Password is: 112233\n",
      "Correct!!\n"
     ],
     "output_type":"stream"
    }
   ],
   "metadata":{
    "datalore":{
     "node_id":"4KmPU29jJXnLzcL0sv1kCk",
     "type":"CODE",
     "hide_input_from_viewers":false,
     "hide_output_from_viewers":false,
     "report_properties":{
      "x":0,
      "y":34,
      "height":5,
      "splitHeight":3
     }
    }
   }
  },
  {
   "cell_type":"code",
   "source":[
    "scb.authen()"
   ],
   "execution_count":null,
   "outputs":[
    {
     "name":"stdout",
     "text":[
      "Your Password is: 1204\n",
      "ERROR\n"
     ],
     "output_type":"stream"
    }
   ],
   "metadata":{
    "datalore":{
     "node_id":"9cJLq5cDqqik6dQOBmdCOx",
     "type":"CODE",
     "hide_input_from_viewers":false,
     "hide_output_from_viewers":false,
     "report_properties":{
      "x":0,
      "y":39,
      "width":1,
      "height":5,
      "splitHeight":3
     }
    }
   }
  },
  {
   "cell_type":"code",
   "source":[
    "scb.transfer()"
   ],
   "execution_count":null,
   "outputs":[
    {
     "name":"stdout",
     "text":[
      "Enter amount to be transfer: $ 10000\n",
      "You Transfer: 10000.0$\n",
      "## Transaction Succesfully ##\n",
      "\\ Your Balance 10000.0$\n"
     ],
     "output_type":"stream"
    }
   ],
   "metadata":{
    "datalore":{
     "node_id":"WRC3nnBIi6LzR4NsEE2U41",
     "type":"CODE",
     "hide_input_from_viewers":false,
     "hide_output_from_viewers":false,
     "report_properties":{
      "x":0,
      "y":44,
      "height":6,
      "splitHeight":3
     }
    }
   }
  },
  {
   "cell_type":"code",
   "source":[
    "scb.change_name('Chuwit')"
   ],
   "execution_count":null,
   "outputs":[
    {
     "name":"stdout",
     "text":[
      "Newname: Chuwit\n"
     ],
     "output_type":"stream"
    }
   ],
   "metadata":{
    "datalore":{
     "node_id":"M5JUa9j1BeDa74nZNV72G5",
     "type":"CODE",
     "hide_input_from_viewers":false,
     "hide_output_from_viewers":false,
     "report_properties":{
      "x":0,
      "y":50,
      "height":5,
      "splitHeight":3
     }
    }
   }
  },
  {
   "cell_type":"code",
   "source":[
    "scb.deposit()"
   ],
   "execution_count":null,
   "outputs":[
    {
     "name":"stdout",
     "text":[
      "Amount to Deposit: 1000\n",
      "Name: Chuwit\n",
      "New Balance: 11000.0\n",
      "Deposit Successful\n"
     ],
     "output_type":"stream"
    }
   ],
   "metadata":{
    "datalore":{
     "node_id":"BCSQ6hkfWXhSc7Yyl5CN8J",
     "type":"CODE",
     "hide_input_from_viewers":false,
     "hide_output_from_viewers":false,
     "report_properties":{
      "x":0,
      "y":55,
      "height":6,
      "splitHeight":3
     }
    }
   }
  },
  {
   "cell_type":"markdown",
   "source":[
    "# OOP "
   ],
   "attachments":{
    
   },
   "metadata":{
    "datalore":{
     "node_id":"oBRvbaPaiCYRQfjGaRYwAT",
     "type":"MD",
     "hide_input_from_viewers":true,
     "hide_output_from_viewers":false,
     "report_properties":{
      "x":0,
      "y":61,
      "height":4,
      "splitHeight":2
     }
    }
   }
  },
  {
   "cell_type":"code",
   "source":[
    "# Import random\n",
    "import random\n",
    "\n",
    "count = 0\n",
    "draw = 0 \n",
    "win = 0\n",
    "lose = 0\n",
    "\n",
    "\n",
    "\n",
    "while True:\n",
    "    user_act = input(\"Enter (rock , paper, scissors): \") #user chose \n",
    "    user_act = user_act.lower()\n",
    "# Get bot action \n",
    "    possible_act = [\"rock\", \"paper\", \"scissors\"] #Computer random\n",
    "    computer_act = random.choice(possible_act)\n",
    "    print(f\"You choose {user_act}, computer choose {computer_act}.\")\n",
    "# Count  (play,win,lose,draw)\n",
    "    if user_act == computer_act:\n",
    "        print(f\"Both players selected {user_act}. It's a draw!\")\n",
    "        count += 1\n",
    "        draw += 1\n",
    "    elif user_act == \"rock\":\n",
    "        if computer_act == \"scissors\":\n",
    "            print(\"Rock smashe scissors! You win!\")\n",
    "            count += 1\n",
    "            win += 1\n",
    "        else:\n",
    "            print(\"Paper cover rock! You lose.\")\n",
    "            count += 1\n",
    "            lose += 1\n",
    "    elif user_act== \"paper\":\n",
    "        if computer_act == \"rock\":\n",
    "            print(\"Paper cover rock! You win!\")\n",
    "            count += 1\n",
    "            win += 1\n",
    "        else:\n",
    "            print(\"Scissors cut paper! You lose.\")\n",
    "            count += 1\n",
    "            lose += 1\n",
    "    elif user_act == \"scissors\":\n",
    "        if computer_act == \"paper\":\n",
    "            print(\"Scissors cut paper! You win!\")\n",
    "            count += 1\n",
    "            win += 1\n",
    "        else:\n",
    "            print(\"Rock smashe scissors! You lose.\")\n",
    "            count += 1\n",
    "            lose += 1\n",
    "# Ask user to play again ?\n",
    "    play_again = input(\"Play again? (y\/n): \")\n",
    "    print(\"********************************\")\n",
    "    print(\"********************************\")\n",
    "    if play_again.lower() != \"y\":\n",
    "# Summary results\n",
    "        print(f\"You played {count} times.\")\n",
    "        print(f\"You won {win} times.\")\n",
    "        print(f\"You lose {lose} times.\")\n",
    "        print(f\"You draw {draw} times.\")\n",
    "        print(\"##############################\")\n",
    "\n",
    "        break"
   ],
   "execution_count":null,
   "outputs":[
    {
     "name":"stdout",
     "text":[
      "Enter (rock , paper, scissors):  paper\n",
      "You choose paper, computer choose rock.\n",
      "Paper cover rock! You win!\n",
      "Play again? (y\/n):  y\n",
      "********************************\n",
      "********************************\n",
      "Enter (rock , paper, scissors):  scissors\n",
      "You choose scissors, computer choose paper.\n",
      "Scissors cut paper! You win!\n",
      "Play again? (y\/n):  y\n",
      "********************************\n",
      "********************************\n",
      "Enter (rock , paper, scissors):  paper\n",
      "You choose paper, computer choose rock.\n",
      "Paper cover rock! You win!\n",
      "Play again? (y\/n):  rock\n",
      "********************************\n",
      "********************************\n",
      "You played 3 times.\n",
      "You won 3 times.\n",
      "You lose 0 times.\n",
      "You draw 0 times.\n",
      "##############################\n"
     ],
     "output_type":"stream"
    }
   ],
   "metadata":{
    "datalore":{
     "node_id":"TO2p8oKy5Oh12BDqj7PfHt",
     "type":"CODE",
     "hide_input_from_viewers":false,
     "hide_output_from_viewers":false,
     "report_properties":{
      "x":0,
      "y":65,
      "height":41,
      "splitHeight":31
     }
    }
   }
  }
 ],
 "metadata":{
  "kernelspec":{
   "display_name":"Python",
   "language":"python",
   "name":"python"
  },
  "datalore":{
   "version":1,
   "computation_mode":"JUPYTER",
   "package_manager":"pip",
   "base_environment":"default",
   "packages":[
    
   ]
  }
 },
 "nbformat":4,
 "nbformat_minor":4
}